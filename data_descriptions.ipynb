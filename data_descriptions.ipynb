{
 "cells": [
  {
   "cell_type": "code",
   "execution_count": 1,
   "metadata": {},
   "outputs": [],
   "source": [
    "import pandas as pd\n",
    "import matplotlib.pyplot as plt\n",
    "import numpy as np\n",
    "from pyvi import ViTokenizer"
   ]
  },
  {
   "cell_type": "code",
   "execution_count": 2,
   "metadata": {},
   "outputs": [],
   "source": [
    "ALL_DATASET = '/home/ductri/code/all_dataset/'\n",
    "ENTROPY_DATASET = ALL_DATASET + 'entropy_2018/'\n",
    "df = pd.read_csv(ENTROPY_DATASET + 'all_data.csv')"
   ]
  },
  {
   "cell_type": "code",
   "execution_count": 3,
   "metadata": {},
   "outputs": [
    {
     "name": "stdout",
     "output_type": "stream",
     "text": [
      "Total training data: 102598\n"
     ]
    },
    {
     "data": {
      "image/png": "[encoded data removed]",
      "text/plain": [
       "<matplotlib.figure.Figure at 0x7fcdb1baacc0>"
      ]
     },
     "metadata": {},
     "output_type": "display_data"
    }
   ],
   "source": [
    "df['sentence_length'] = df['sentence'].map(len)\n",
    "\n",
    "print('Total training data: {}'.format(df.shape[0]))\n",
    "df.hist('sentence_length', bins=500, range=(0, 1000))\n",
    "plt.show()"
   ]
  },
  {
   "cell_type": "code",
   "execution_count": 4,
   "metadata": {},
   "outputs": [
    {
     "data": {
      "text/html": [
       "<div>\n",
       "<style scoped>\n",
       "    .dataframe tbody tr th:only-of-type {\n",
       "        vertical-align: middle;\n",
       "    }\n",
       "\n",
       "    .dataframe tbody tr th {\n",
       "        vertical-align: top;\n",
       "    }\n",
       "\n",
       "    .dataframe thead tr th {\n",
       "        text-align: left;\n",
       "    }\n",
       "\n",
       "    .dataframe thead tr:last-of-type th {\n",
       "        text-align: right;\n",
       "    }\n",
       "</style>\n",
       "<table border=\"1\" class=\"dataframe\">\n",
       "  <thead>\n",
       "    <tr>\n",
       "      <th></th>\n",
       "      <th colspan=\"8\" halign=\"left\">sentence_length</th>\n",
       "    </tr>\n",
       "    <tr>\n",
       "      <th></th>\n",
       "      <th>count</th>\n",
       "      <th>mean</th>\n",
       "      <th>std</th>\n",
       "      <th>min</th>\n",
       "      <th>25%</th>\n",
       "      <th>50%</th>\n",
       "      <th>75%</th>\n",
       "      <th>max</th>\n",
       "    </tr>\n",
       "    <tr>\n",
       "      <th>sentiment</th>\n",
       "      <th></th>\n",
       "      <th></th>\n",
       "      <th></th>\n",
       "      <th></th>\n",
       "      <th></th>\n",
       "      <th></th>\n",
       "      <th></th>\n",
       "      <th></th>\n",
       "    </tr>\n",
       "  </thead>\n",
       "  <tbody>\n",
       "    <tr>\n",
       "      <th>negative</th>\n",
       "      <td>30764.0</td>\n",
       "      <td>590.922377</td>\n",
       "      <td>1374.509693</td>\n",
       "      <td>2.0</td>\n",
       "      <td>60.0</td>\n",
       "      <td>131.0</td>\n",
       "      <td>414.00</td>\n",
       "      <td>51299.0</td>\n",
       "    </tr>\n",
       "    <tr>\n",
       "      <th>neutral</th>\n",
       "      <td>39314.0</td>\n",
       "      <td>161.726484</td>\n",
       "      <td>145.088800</td>\n",
       "      <td>7.0</td>\n",
       "      <td>54.0</td>\n",
       "      <td>116.0</td>\n",
       "      <td>225.00</td>\n",
       "      <td>1807.0</td>\n",
       "    </tr>\n",
       "    <tr>\n",
       "      <th>positive</th>\n",
       "      <td>32520.0</td>\n",
       "      <td>301.683702</td>\n",
       "      <td>543.554280</td>\n",
       "      <td>1.0</td>\n",
       "      <td>59.0</td>\n",
       "      <td>163.0</td>\n",
       "      <td>375.25</td>\n",
       "      <td>17646.0</td>\n",
       "    </tr>\n",
       "  </tbody>\n",
       "</table>\n",
       "</div>"
      ],
      "text/plain": [
       "          sentence_length                                                     \\\n",
       "                    count        mean          std  min   25%    50%     75%   \n",
       "sentiment                                                                      \n",
       "negative          30764.0  590.922377  1374.509693  2.0  60.0  131.0  414.00   \n",
       "neutral           39314.0  161.726484   145.088800  7.0  54.0  116.0  225.00   \n",
       "positive          32520.0  301.683702   543.554280  1.0  59.0  163.0  375.25   \n",
       "\n",
       "                    \n",
       "               max  \n",
       "sentiment           \n",
       "negative   51299.0  \n",
       "neutral     1807.0  \n",
       "positive   17646.0  "
      ]
     },
     "execution_count": 4,
     "metadata": {},
     "output_type": "execute_result"
    }
   ],
   "source": [
    "df.groupby('sentiment').describe()"
   ]
  },
  {
   "cell_type": "code",
   "execution_count": 5,
   "metadata": {},
   "outputs": [],
   "source": [
    "shuffled_index = list(range(df.shape[0]))\n",
    "np.random.shuffle(shuffled_index)"
   ]
  },
  {
   "cell_type": "code",
   "execution_count": 6,
   "metadata": {},
   "outputs": [],
   "source": [
    "df_shuffled = df.iloc[shuffled_index, :]"
   ]
  },
  {
   "cell_type": "code",
   "execution_count": 7,
   "metadata": {},
   "outputs": [
    {
     "data": {
      "text/html": [
       "<div>\n",
       "<style scoped>\n",
       "    .dataframe tbody tr th:only-of-type {\n",
       "        vertical-align: middle;\n",
       "    }\n",
       "\n",
       "    .dataframe tbody tr th {\n",
       "        vertical-align: top;\n",
       "    }\n",
       "\n",
       "    .dataframe thead th {\n",
       "        text-align: right;\n",
       "    }\n",
       "</style>\n",
       "<table border=\"1\" class=\"dataframe\">\n",
       "  <thead>\n",
       "    <tr style=\"text-align: right;\">\n",
       "      <th></th>\n",
       "      <th>sentence</th>\n",
       "      <th>sentiment</th>\n",
       "      <th>sentence_length</th>\n",
       "    </tr>\n",
       "  </thead>\n",
       "  <tbody>\n",
       "    <tr>\n",
       "      <th>0</th>\n",
       "      <td>Tên sản phẩm:  Dầ...</td>\n",
       "      <td>negative</td>\n",
       "      <td>580</td>\n",
       "    </tr>\n",
       "    <tr>\n",
       "      <th>1</th>\n",
       "      <td>TV led sony! mới mở thì màu BT. Một lúc ...</td>\n",
       "      <td>negative</td>\n",
       "      <td>201</td>\n",
       "    </tr>\n",
       "    <tr>\n",
       "      <th>2</th>\n",
       "      <td>Sữa vn chị thấy ngọt lắm , với mùi vani nên ch...</td>\n",
       "      <td>negative</td>\n",
       "      <td>122</td>\n",
       "    </tr>\n",
       "    <tr>\n",
       "      <th>3</th>\n",
       "      <td>Tpb dạo này pr vs làm thương hiệu ghê:)))) so ...</td>\n",
       "      <td>negative</td>\n",
       "      <td>80</td>\n",
       "    </tr>\n",
       "    <tr>\n",
       "      <th>4</th>\n",
       "      <td>7+ chán bán đổi qua S8+</td>\n",
       "      <td>negative</td>\n",
       "      <td>23</td>\n",
       "    </tr>\n",
       "  </tbody>\n",
       "</table>\n",
       "</div>"
      ],
      "text/plain": [
       "                                            sentence sentiment  \\\n",
       "0                               Tên sản phẩm:  Dầ...  negative   \n",
       "1  TV led sony! mới mở thì màu BT. Một lúc ...  negative   \n",
       "2  Sữa vn chị thấy ngọt lắm , với mùi vani nên ch...  negative   \n",
       "3  Tpb dạo này pr vs làm thương hiệu ghê:)))) so ...  negative   \n",
       "4                            7+ chán bán đổi qua S8+  negative   \n",
       "\n",
       "   sentence_length  \n",
       "0              580  \n",
       "1              201  \n",
       "2              122  \n",
       "3               80  \n",
       "4               23  "
      ]
     },
     "execution_count": 7,
     "metadata": {},
     "output_type": "execute_result"
    }
   ],
   "source": [
    "df.head()"
   ]
  },
  {
   "cell_type": "code",
   "execution_count": 8,
   "metadata": {},
   "outputs": [
    {
     "data": {
      "text/html": [
       "<div>\n",
       "<style scoped>\n",
       "    .dataframe tbody tr th:only-of-type {\n",
       "        vertical-align: middle;\n",
       "    }\n",
       "\n",
       "    .dataframe tbody tr th {\n",
       "        vertical-align: top;\n",
       "    }\n",
       "\n",
       "    .dataframe thead th {\n",
       "        text-align: right;\n",
       "    }\n",
       "</style>\n",
       "<table border=\"1\" class=\"dataframe\">\n",
       "  <thead>\n",
       "    <tr style=\"text-align: right;\">\n",
       "      <th></th>\n",
       "      <th>sentence</th>\n",
       "      <th>sentiment</th>\n",
       "      <th>sentence_length</th>\n",
       "    </tr>\n",
       "  </thead>\n",
       "  <tbody>\n",
       "    <tr>\n",
       "      <th>42761</th>\n",
       "      <td>Anh Phi nhìn chảy nc miếng</td>\n",
       "      <td>neutral</td>\n",
       "      <td>26</td>\n",
       "    </tr>\n",
       "    <tr>\n",
       "      <th>9917</th>\n",
       "      <td>Má ơi iu quái biến dạng 🤣🙏🏻  #รีวิวหน้าใหม่ค่...</td>\n",
       "      <td>negative</td>\n",
       "      <td>81</td>\n",
       "    </tr>\n",
       "    <tr>\n",
       "      <th>32704</th>\n",
       "      <td>NguyenPhong di hok? Voucher co HSD den bao gio...</td>\n",
       "      <td>neutral</td>\n",
       "      <td>54</td>\n",
       "    </tr>\n",
       "    <tr>\n",
       "      <th>42620</th>\n",
       "      <td>Chào bạn, màn hình IPS có giá tham khảo từ 2 t...</td>\n",
       "      <td>neutral</td>\n",
       "      <td>196</td>\n",
       "    </tr>\n",
       "    <tr>\n",
       "      <th>43094</th>\n",
       "      <td>Xin chân thành cảm ơn nhà mạng  MobiFone July ...</td>\n",
       "      <td>neutral</td>\n",
       "      <td>130</td>\n",
       "    </tr>\n",
       "  </tbody>\n",
       "</table>\n",
       "</div>"
      ],
      "text/plain": [
       "                                                sentence sentiment  \\\n",
       "42761                         Anh Phi nhìn chảy nc miếng   neutral   \n",
       "9917    Má ơi iu quái biến dạng 🤣🙏🏻  #รีวิวหน้าใหม่ค่...  negative   \n",
       "32704  NguyenPhong di hok? Voucher co HSD den bao gio...   neutral   \n",
       "42620  Chào bạn, màn hình IPS có giá tham khảo từ 2 t...   neutral   \n",
       "43094  Xin chân thành cảm ơn nhà mạng  MobiFone July ...   neutral   \n",
       "\n",
       "       sentence_length  \n",
       "42761               26  \n",
       "9917                81  \n",
       "32704               54  \n",
       "42620              196  \n",
       "43094              130  "
      ]
     },
     "execution_count": 8,
     "metadata": {},
     "output_type": "execute_result"
    }
   ],
   "source": [
    "df_shuffled.head()"
   ]
  },
  {
   "cell_type": "code",
   "execution_count": 9,
   "metadata": {},
   "outputs": [],
   "source": [
    "del df_shuffled['sentence_length']"
   ]
  },
  {
   "cell_type": "code",
   "execution_count": 11,
   "metadata": {},
   "outputs": [],
   "source": [
    "train_ratio = 0.9\n",
    "split_index = int(train_ratio*df_shuffled.shape[0])\n",
    "df_shuffled.iloc[:split_index, :].to_csv(ENTROPY_DATASET + 'training_set.csv', index=False)\n",
    "df_shuffled.iloc[split_index:, :].to_csv(ENTROPY_DATASET + 'test_set.csv', index=False)"
   ]
  },
  {
   "cell_type": "code",
   "execution_count": 12,
   "metadata": {},
   "outputs": [],
   "source": [
    "df_train = pd.read_csv(ENTROPY_DATASET + 'training_set.csv')\n",
    "df_test = pd.read_csv(ENTROPY_DATASET + 'test_set.csv')"
   ]
  },
  {
   "cell_type": "code",
   "execution_count": 14,
   "metadata": {},
   "outputs": [
    {
     "data": {
      "text/plain": [
       "(10260, 2)"
      ]
     },
     "execution_count": 14,
     "metadata": {},
     "output_type": "execute_result"
    }
   ],
   "source": [
    "df_test.shape"
   ]
  },
  {
   "cell_type": "code",
   "execution_count": 6,
   "metadata": {},
   "outputs": [],
   "source": [
    "df_train['length'] = df_train['sentence'].map(len)\n",
    "df_test['length'] = df_test['sentence'].map(len)"
   ]
  },
  {
   "cell_type": "code",
   "execution_count": 7,
   "metadata": {},
   "outputs": [
    {
     "data": {
      "text/plain": [
       "array([[<matplotlib.axes._subplots.AxesSubplot object at 0x7f330df6b828>]],\n",
       "      dtype=object)"
      ]
     },
     "execution_count": 7,
     "metadata": {},
     "output_type": "execute_result"
    },
    {
     "data": {
      "image/png": "[encoded data removed]",
      "text/plain": [
       "<matplotlib.figure.Figure at 0x7f330df68470>"
      ]
     },
     "metadata": {},
     "output_type": "display_data"
    }
   ],
   "source": [
    "df_train.hist('length', bins=500, range=(0, 1000))"
   ]
  },
  {
   "cell_type": "code",
   "execution_count": 8,
   "metadata": {},
   "outputs": [
    {
     "data": {
      "text/plain": [
       "array([[<matplotlib.axes._subplots.AxesSubplot object at 0x7f33109b4b00>]],\n",
       "      dtype=object)"
      ]
     },
     "execution_count": 8,
     "metadata": {},
     "output_type": "execute_result"
    },
    {
     "data": {
      "image/png": "[encoded data removed]",
      "text/plain": [
       "<matplotlib.figure.Figure at 0x7f3310a9c3c8>"
      ]
     },
     "metadata": {},
     "output_type": "display_data"
    }
   ],
   "source": [
    "df_test.hist('length', bins=500, range=(0, 1000))"
   ]
  },
  {
   "cell_type": "code",
   "execution_count": 46,
   "metadata": {},
   "outputs": [],
   "source": [
    "text=df_test.iloc[14638]['sentence']"
   ]
  },
  {
   "cell_type": "code",
   "execution_count": 48,
   "metadata": {},
   "outputs": [],
   "source": [
    "text=\"\"\"******************************************************************** vinaphone plus - chương trình ưu đãi đích thực ******************************************************************** áp đụng cho tất cả các thuê bao di động vinaphone trả trước/trả sau đang hoạt động. khi là hội viên, quý khách hàng được hưởng các chương trình miễn phí/giảm giá từ vinaphone và các đối tác liên kết dựa theo mức điểm tích lũy của từng hội viên.  > quý khách có thể đăng ký qua  hình thức như sau: , soạn tin dk gửi  và làm theo hướng dẫn; , truy cập  urlpatt  , tải ứng dụng vinaphone plus về máy di động và đăng ký; , đăng ký trực tiếp tại các điểm giao dịch của vinaphone. >>>>>>>>>>>>>>>>>>>>>>>>>>>>>>>>>>>>>>>>>>>>>>>>>>> ứng dụng trao tay - nhận ngay ưu đãi ----------------------------------------------------------------------------------------- hãy đăng ký thành viên vinaphone plus ngay hôm nay vnpt - vinaphone điện biên added  new photos — feeling excited. photos from vnpt - vinaphone điện biên's post\"\"\""
   ]
  },
  {
   "cell_type": "code",
   "execution_count": null,
   "metadata": {},
   "outputs": [],
   "source": [
    "\n",
    "ViTokenizer.tokenize(text).split(' ')"
   ]
  },
  {
   "cell_type": "code",
   "execution_count": null,
   "metadata": {},
   "outputs": [],
   "source": [
    "texts.iloc[-5]"
   ]
  },
  {
   "cell_type": "code",
   "execution_count": 28,
   "metadata": {},
   "outputs": [
    {
     "data": {
      "text/plain": [
       "3974"
      ]
     },
     "execution_count": 28,
     "metadata": {},
     "output_type": "execute_result"
    }
   ],
   "source": [
    "len(text)"
   ]
  },
  {
   "cell_type": "code",
   "execution_count": null,
   "metadata": {},
   "outputs": [],
   "source": []
  }
 ],
 "metadata": {
  "kernelspec": {
   "display_name": "Python 3",
   "language": "python",
   "name": "python3"
  },
  "language_info": {
   "codemirror_mode": {
    "name": "ipython",
    "version": 3
   },
   "file_extension": ".py",
   "mimetype": "text/x-python",
   "name": "python",
   "nbconvert_exporter": "python",
   "pygments_lexer": "ipython3",
   "version": "3.6.4"
  }
 },
 "nbformat": 4,
 "nbformat_minor": 2
}
