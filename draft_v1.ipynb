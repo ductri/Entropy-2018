{
 "cells": [
  {
   "cell_type": "markdown",
   "metadata": {},
   "source": [
    "# Started at 11:30 19-06-2018"
   ]
  },
  {
   "cell_type": "code",
   "execution_count": 1,
   "metadata": {},
   "outputs": [
    {
     "name": "stderr",
     "output_type": "stream",
     "text": [
      "/home/ductri/anaconda3/envs/tf/lib/python3.6/site-packages/h5py/__init__.py:36: FutureWarning: Conversion of the second argument of issubdtype from `float` to `np.floating` is deprecated. In future, it will be treated as `np.float64 == np.dtype(float).type`.\n",
      "  from ._conv import register_converters as _register_converters\n"
     ]
    }
   ],
   "source": [
    "import pandas as pd\n",
    "import numpy as np\n",
    "import tensorflow as tf"
   ]
  },
  {
   "cell_type": "markdown",
   "metadata": {},
   "source": [
    "\n",
    "- Preprocess\n",
    "- Build vocabulary + OUT_OF_SCOPE\n",
    "- Get one-hot index vector\n",
    "- Build graph, start with a Placeholder in Max Length of a Sentence dimension, followed by transforming matrix, end with 3 nodes\n",
    "\n",
    "--> Let's build graph first"
   ]
  },
  {
   "cell_type": "code",
   "execution_count": 2,
   "metadata": {},
   "outputs": [],
   "source": [
    "def proprocess(df):\n",
    "    \"\"\"\n",
    "    A df contains 'sentence'\n",
    "    \"\"\"\n",
    "    return df\n",
    "\n",
    "def build_vocabulary(df):\n",
    "    \"\"\"\n",
    "    A df contains 'sentence'. It should be pre-processed\n",
    "    \"\"\"\n",
    "    return df\n"
   ]
  },
  {
   "cell_type": "code",
   "execution_count": null,
   "metadata": {},
   "outputs": [],
   "source": [
    "def inference(batch_sentences):\n",
    "    \"\"\"\n",
    "    batch_sentences: [batch_size, sentence_length_max]\n",
    "    \"\"\"\n",
    "    with tf.sco\n",
    "    word_embeddings = tf.get_\n",
    "    tf.nn.embedding_lookup()\n",
    "    return"
   ]
  },
  {
   "cell_type": "code",
   "execution_count": 2,
   "metadata": {},
   "outputs": [],
   "source": [
    "\n",
    "\n",
    "def loss(batch_sentences, batch_sentiments):\n",
    "    return\n",
    "\n",
    "def train(batch_loss):\n",
    "    return\n"
   ]
  },
  {
   "cell_type": "code",
   "execution_count": null,
   "metadata": {},
   "outputs": [],
   "source": []
  }
 ],
 "metadata": {
  "kernelspec": {
   "display_name": "Python 3",
   "language": "python",
   "name": "python3"
  },
  "language_info": {
   "codemirror_mode": {
    "name": "ipython",
    "version": 3
   },
   "file_extension": ".py",
   "mimetype": "text/x-python",
   "name": "python",
   "nbconvert_exporter": "python",
   "pygments_lexer": "ipython3",
   "version": "3.6.4"
  }
 },
 "nbformat": 4,
 "nbformat_minor": 2
}
